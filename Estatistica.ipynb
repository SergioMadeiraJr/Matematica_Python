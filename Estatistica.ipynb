{
  "nbformat": 4,
  "nbformat_minor": 0,
  "metadata": {
    "colab": {
      "provenance": [],
      "authorship_tag": "ABX9TyOflCwtN4iXOTMuw4X9P02f",
      "include_colab_link": true
    },
    "kernelspec": {
      "name": "python3",
      "display_name": "Python 3"
    },
    "language_info": {
      "name": "python"
    }
  },
  "cells": [
    {
      "cell_type": "markdown",
      "metadata": {
        "id": "view-in-github",
        "colab_type": "text"
      },
      "source": [
        "<a href=\"https://colab.research.google.com/github/SergioMadeiraJr/Matematica_Python/blob/main/Estatistica.ipynb\" target=\"_parent\"><img src=\"https://colab.research.google.com/assets/colab-badge.svg\" alt=\"Open In Colab\"/></a>"
      ]
    },
    {
      "cell_type": "code",
      "source": [
        "# Lista de amostras\n",
        "amostra = [1, 3, 2, 5, 7, 0, 2, 3]\n",
        "\n",
        "# Calcula a média da amostra\n",
        "# A função sum() soma todos os elementos da lista\n",
        "# A função len() retorna o número de elementos na lista\n",
        "media = sum(amostra) / len(amostra)\n",
        "\n",
        "# Imprime a média calculada\n",
        "print(media)  # imprime 2.875\n"
      ],
      "metadata": {
        "id": "f8RVwr_HexZu"
      },
      "execution_count": null,
      "outputs": []
    },
    {
      "cell_type": "markdown",
      "source": [
        "#Este código calcula a média aritmética de uma lista de números.\n",
        "\n",
        "1. Lista: A lista amostra contém os números a serem analisados. Em Python, listas são definidas usando colchetes [] e podem armazenar múltiplos valores.\n",
        "\n",
        "2. Função sum(): Soma todos os elementos da lista. No nosso exemplo, sum(amostra) retorna 23, que é a soma de todos os números na lista.\n",
        "\n",
        "3. Função len(): Retorna o número de elementos na lista. Para nossa lista, len(amostra) retorna 8, pois há 8 elementos na lista.\n",
        "\n",
        "4. Cálculo da Média: Dividimos a soma dos elementos pelo número de elementos para obter a média. A operação sum(amostra) / len(amostra) resulta em 2.875.\n",
        "\n",
        "5. Impressão do Resultado: Usamos a função print() para exibir a média calculada no console.\n",
        "\n",
        "Dicas sobre Python\n",
        "- Indentação: Em Python, a indentação é crucial. É usada para definir blocos de código, como em loops ou funções.\n",
        "- Case Sensitive: Python diferencia letras maiúsculas de minúsculas. Por exemplo, Media e media são variáveis diferentes.\n",
        "- Comentários: Utilize # para adicionar comentários ao código. Comentários são ignorados pelo interpretador e servem para documentar o código."
      ],
      "metadata": {
        "id": "flRdXpZ8ezuj"
      }
    },
    {
      "cell_type": "code",
      "source": [
        "# Notas dos três primeiros exames e do exame final\n",
        "notas = [90, 80, 63, 87]\n",
        "\n",
        "# Pesos correspondentes às notas\n",
        "pesos = [0.20, 0.20, 0.20, 0.40]\n",
        "\n",
        "# Calcula a média ponderada\n",
        "media_ponderada = sum(nota * peso for nota, peso in zip(notas, pesos)) / sum(pesos)\n",
        "\n",
        "# Exibe a média ponderada\n",
        "print(media_ponderada)  # Imprime 81.4\n"
      ],
      "metadata": {
        "id": "XZ5jRSYih2JF"
      },
      "execution_count": null,
      "outputs": []
    },
    {
      "cell_type": "markdown",
      "source": [
        "1. Listas:\n",
        "\n",
        "- Em Python, as listas são uma estrutura de dados versátil que pode conter elementos de qualquer tipo. As listas são definidas entre colchetes [].\n",
        "2. Função zip():\n",
        "\n",
        "- A função zip() é usada para emparelhar elementos de duas ou mais listas. No nosso exemplo, zip(notas, pesos) cria pares de elementos das listas notas e pesos.\n",
        "3. Compreensão de Listas:\n",
        "\n",
        "- A compreensão de listas é uma maneira concisa de criar listas em Python. No exemplo, [nota * peso for nota, peso in zip(notas, pesos)] cria uma lista de produtos das notas pelos pesos.\n",
        "\n",
        "4. Função sum():\n",
        "\n",
        " A função sum() soma todos os elementos de uma lista. No exemplo, sum(nota * peso for nota, peso in zip(notas, pesos)) soma os produtos das notas pelos pesos."
      ],
      "metadata": {
        "id": "HbgtQCYUiEzv"
      }
    },
    {
      "cell_type": "code",
      "source": [
        "# Notas dos três primeiros exames e do exame final\n",
        "notas = [90, 80, 63, 87]\n",
        "\n",
        "# Pesos correspondentes às notas\n",
        "pesos = [1.0, 1.0, 1.0, 2.0]\n",
        "\n",
        "# Calcula a média ponderada\n",
        "# A função zip emparelha os elementos das listas 'notas' e 'pesos'\n",
        "# A compreensão de lista calcula o produto de cada nota pelo seu peso correspondente\n",
        "# A função sum soma esses produtos para obter a soma ponderada\n",
        "# Essa soma é dividida pela soma dos pesos para calcular a média ponderada\n",
        "media_ponderada = sum(nota * peso for nota, peso in zip(notas, pesos)) / sum(pesos)\n",
        "\n",
        "# Exibe a média ponderada\n",
        "print(media_ponderada)  # Imprime 81.4\n"
      ],
      "metadata": {
        "id": "oy_GJt_Fh_S-"
      },
      "execution_count": null,
      "outputs": []
    },
    {
      "cell_type": "code",
      "source": [
        "# Número de animais de estimação que cada pessoa possui\n",
        "amostra = [0, 1, 5, 7, 9, 10, 14]\n",
        "\n",
        "# Função que calcula a mediana\n",
        "def mediana(valores):\n",
        "    # Ordena a lista de valores\n",
        "    ordenados = sorted(valores)\n",
        "    print(ordenados)  # Exibe a lista ordenada\n",
        "    # Obtém o número de elementos na lista\n",
        "    n = len(ordenados)\n",
        "    # Calcula o índice do meio\n",
        "    meio = int(n / 2)\n"
      ],
      "metadata": {
        "id": "OFVgh1nDiuOi"
      },
      "execution_count": null,
      "outputs": []
    },
    {
      "cell_type": "markdown",
      "source": [
        "##Função sorted():\n",
        "\n",
        "A função sorted() ordena os elementos de uma lista. Isso é útil para calcular a mediana ou realizar outras operações que dependem da ordem dos elementos.\n",
        "\n",
        "##Condicionais:\n",
        "\n",
        "As instruções if e else permitem executar diferentes blocos de código com base em condições. No exemplo, usamos uma condicional para determinar se o número de elementos na lista é par ou ímpar."
      ],
      "metadata": {
        "id": "J2nwxchHi2oe"
      }
    },
    {
      "cell_type": "code",
      "source": [
        "# Número de animais de estimação que cada pessoa possui\n",
        "from collections import defaultdict\n",
        "\n",
        "# Lista de números de animais de estimação\n",
        "amostra = [1, 3, 2, 5, 7, 0, 2, 3]\n",
        "\n",
        "# Função que calcula a moda\n",
        "def moda(valores):\n",
        "    # Cria um dicionário com valores padrão 0 para contagem\n",
        "    contagens = defaultdict(lambda: 0)\n",
        "\n",
        "    # Conta a frequência de cada valor na lista\n",
        "    for valor in valores:\n",
        "        contagens[valor] += 1\n",
        "\n",
        "    # Encontra a frequência máxima\n",
        "    frequencia_maxima = max(contagens.values())\n",
        "\n",
        "    # Encontra todos os valores que têm a frequência máxima\n",
        "    modas = [v for v in set(valores) if contagens[v] == frequencia_maxima]\n",
        "\n",
        "    # Retorna a(s) moda(s)\n",
        "    return modas\n",
        "\n",
        "# Calcula e exibe a moda da amostra\n",
        "print(moda(amostra))  # Imprime [2, 3]\n"
      ],
      "metadata": {
        "id": "_swmsIqYjC5h"
      },
      "execution_count": null,
      "outputs": []
    },
    {
      "cell_type": "code",
      "source": [
        "from scipy.stats import binom\n",
        "n = 10\n",
        "p = 0.9\n",
        "for k in range(n + 1):\n",
        " probability = binom.pmf(k, n, p)\n",
        " print(\"{0} - {1}\".format(k, probability))\n"
      ],
      "metadata": {
        "colab": {
          "base_uri": "https://localhost:8080/"
        },
        "id": "j8iYf8C-Y8L-",
        "outputId": "ce15aafd-164a-4035-ecad-6941f151333a"
      },
      "execution_count": null,
      "outputs": [
        {
          "output_type": "stream",
          "name": "stdout",
          "text": [
            "0 - 9.999999999999977e-11\n",
            "1 - 8.999999999999978e-09\n",
            "2 - 3.6449999999999943e-07\n",
            "3 - 8.747999999999991e-06\n",
            "4 - 0.00013778099999999974\n",
            "5 - 0.0014880347999999982\n",
            "6 - 0.011160260999999996\n",
            "7 - 0.05739562799999997\n",
            "8 - 0.1937102444999998\n",
            "9 - 0.38742048899999976\n",
            "10 - 0.3486784401000001\n"
          ]
        }
      ]
    },
    {
      "cell_type": "code",
      "source": [
        "sample = [1, 3, 2, 5, 7, 0, 2, 3]\n",
        "\n",
        "def mode(values):\n",
        "    counts = {}\n",
        "    for s in values:\n",
        "        counts[s] = counts.get(s, 0) + 1\n",
        "    max_count = max(counts.values())\n",
        "    modes = [v for v, count in counts.items() if count == max_count]\n",
        "    return modes\n",
        "\n",
        "print(mode(sample))  # [2, 3]\n",
        "\n"
      ],
      "metadata": {
        "colab": {
          "base_uri": "https://localhost:8080/"
        },
        "id": "RJ1JSkgzhAuh",
        "outputId": "a91dc25b-13d1-4d1f-9a39-d4a2d46ee815"
      },
      "execution_count": null,
      "outputs": [
        {
          "output_type": "stream",
          "name": "stdout",
          "text": [
            "[3, 2]\n"
          ]
        }
      ]
    },
    {
      "cell_type": "code",
      "source": [
        "import matplotlib.pyplot as plt\n",
        "\n",
        "# Criar uma lista de valores para o eixo x\n",
        "valores_x = [1, 2, 3, 4, 5]\n",
        "\n",
        "# Criar uma lista de zeros para o eixo y\n",
        "valores_y = [0] * len(valores_x)\n",
        "\n",
        "# Plotar a dispersão de pontos\n",
        "plt.scatter(valores_x, valores_y)\n",
        "\n",
        "# Configurar os limites dos eixos\n",
        "plt.xlim(0, 6)  # define os limites do eixo x\n",
        "\n",
        "# Remover o eixo y (já que não temos valores para exibir)\n",
        "plt.gca().axes.get_yaxis().set_visible(False)\n",
        "\n",
        "# Adicionar rótulo ao eixo x\n",
        "plt.xlabel('Valor')\n",
        "\n",
        "# Adicionar um título ao gráfico\n",
        "plt.title('Dispersão de Pontos em uma Dimensão')\n",
        "\n",
        "# Exibir o gráfico\n",
        "plt.show()\n",
        "\n"
      ],
      "metadata": {
        "colab": {
          "base_uri": "https://localhost:8080/",
          "height": 472
        },
        "id": "-ka_ahGnofEK",
        "outputId": "cc994986-0717-4573-dc83-67a1c18683d9"
      },
      "execution_count": null,
      "outputs": [
        {
          "output_type": "display_data",
          "data": {
            "text/plain": [
              "<Figure size 640x480 with 1 Axes>"
            ],
            "image/png": "[encoded data removed]"
          },
          "metadata": {}
        }
      ]
    }
  ]
}