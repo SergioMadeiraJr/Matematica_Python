{
  "nbformat": 4,
  "nbformat_minor": 0,
  "metadata": {
    "colab": {
      "provenance": [],
      "authorship_tag": "ABX9TyMJHYai07AQet9Kx1YPby2z",
      "include_colab_link": true
    },
    "kernelspec": {
      "name": "python3",
      "display_name": "Python 3"
    },
    "language_info": {
      "name": "python"
    }
  },
  "cells": [
    {
      "cell_type": "markdown",
      "metadata": {
        "id": "view-in-github",
        "colab_type": "text"
      },
      "source": [
        "<a href=\"https://colab.research.google.com/github/SergioMadeiraJr/Matematica_Python/blob/main/Matrizes.ipynb\" target=\"_parent\"><img src=\"https://colab.research.google.com/assets/colab-badge.svg\" alt=\"Open In Colab\"/></a>"
      ]
    },
    {
      "cell_type": "code",
      "execution_count": null,
      "metadata": {
        "colab": {
          "base_uri": "https://localhost:8080/"
        },
        "id": "tMhCOVTLo95l",
        "outputId": "2b70928a-fb7f-4e0a-f12e-d4d3c7f37100"
      },
      "outputs": [
        {
          "output_type": "stream",
          "name": "stdout",
          "text": [
            "[3. 2.]\n"
          ]
        }
      ],
      "source": [
        "# 7x + 9y = 39\n",
        "# 4x + 6y = 24\n",
        "\n",
        "import numpy as np\n",
        "from numpy.linalg import inv\n",
        "\n",
        "# matriz A\n",
        "A = np.array([[7 , 9], [4, 6]])\n",
        "# matriz R\n",
        "R = np.array([39, 24])\n",
        "# matriz inversa de A\n",
        "\n",
        "A_inv = inv(A)\n",
        "\n",
        "# valores de x e y é p resultado do protudo entre a inversa A e R\n",
        "\n",
        "variaveis = np.dot(A_inv, R)\n",
        "\n",
        "print(variaveis)"
      ]
    },
    {
      "cell_type": "code",
      "source": [
        "# 4x + 2y + 4z = 44\n",
        "# 5x + 3y + 7z = 56\n",
        "# 9x + 3y + 6z = 72\""
      ],
      "metadata": {
        "id": "V_zXc01GsbJe"
      },
      "execution_count": null,
      "outputs": []
    },
    {
      "cell_type": "code",
      "source": [
        "np.dot(A, R)"
      ],
      "metadata": {
        "colab": {
          "base_uri": "https://localhost:8080/"
        },
        "id": "emipE9CQqlSA",
        "outputId": "c8ac806f-de08-4055-a7b0-411469133ec9"
      },
      "execution_count": null,
      "outputs": [
        {
          "output_type": "execute_result",
          "data": {
            "text/plain": [
              "array([489, 300])"
            ]
          },
          "metadata": {},
          "execution_count": 2
        }
      ]
    }
  ]
}